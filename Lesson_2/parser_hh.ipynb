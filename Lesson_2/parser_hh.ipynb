{
 "cells": [
  {
   "cell_type": "code",
   "execution_count": 10,
   "id": "5e40c2d8",
   "metadata": {},
   "outputs": [
    {
     "name": "stdout",
     "output_type": "stream",
     "text": [
      "Старницы поиска собраны\n"
     ]
    }
   ],
   "source": [
    "# Библиотека для работы с HTTP-запросами. Будем использовать ее для обращения к API HH\n",
    "import requests\n",
    "\n",
    "# Пакет для удобной работы с данными в формате json\n",
    "import json\n",
    "\n",
    "# Модуль для работы со значением времени\n",
    "import time\n",
    "\n",
    "# Модуль для работы с операционной системой. Будем использовать для работы с файлами\n",
    "import os\n",
    "\n",
    " \n",
    "def getPage(page = 0):\n",
    "    \"\"\"\n",
    "    Создаем метод для получения страницы со списком вакансий.\n",
    "    Аргументы:\n",
    "        page - Индекс страницы, начинается с 0. Значение по умолчанию 0, т.е. первая страница\n",
    "    \"\"\"\n",
    "    \n",
    "    # Справочник для параметров GET-запроса\n",
    "    params = {\n",
    "        'text': 'NAME:Аналитик', # Текст фильтра. В имени должно быть слово \"Аналитик\"\n",
    "#         'area': 1, # Поиск ощуществляется по вакансиям города Москва\n",
    "        'page': page, # Индекс страницы поиска на HH\n",
    "        'per_page': 100 # Кол-во вакансий на 1 странице\n",
    "    }\n",
    "    \n",
    "    \n",
    "    req = requests.get('https://api.hh.ru/vacancies', params) # Посылаем запрос к API\n",
    "    data = req.content.decode() # Декодируем его ответ, чтобы Кириллица отображалась корректно\n",
    "    req.close()\n",
    "    return data\n",
    "\n",
    "\n",
    "# Считываем первые 2000 вакансий\n",
    "for page in range(0, 20):\n",
    "    \n",
    "    # Преобразуем текст ответа запроса в справочник Python\n",
    "    jsObj = json.loads(getPage(page))\n",
    "    \n",
    "    # Сохраняем файлы в папку {путь до текущего документа со скриптом}\\docs\\pagination\n",
    "    # Определяем количество файлов в папке для сохранения документа с ответом запроса\n",
    "    # Полученное значение используем для формирования имени документа\n",
    "    nextFileName = './docs/pagination/{}.json'.format(len(os.listdir('./docs/pagination')))\n",
    "    \n",
    "    # Создаем новый документ, записываем в него ответ запроса, после закрываем\n",
    "    f = open(nextFileName, mode='w', encoding='utf8')\n",
    "    f.write(json.dumps(jsObj, ensure_ascii=False))\n",
    "    f.close()\n",
    "    \n",
    "    # Проверка на последнюю страницу, если вакансий меньше 2000\n",
    "    if (jsObj['pages'] - page) <= 1:\n",
    "        break\n",
    "    \n",
    "    # Необязательная задержка, но чтобы не нагружать сервисы hh, оставим. 5 сек мы может подождать\n",
    "    time.sleep(0.25)\n",
    "    \n",
    "print('Старницы поиска собраны')"
   ]
  },
  {
   "cell_type": "code",
   "execution_count": 11,
   "id": "df893b3e",
   "metadata": {},
   "outputs": [],
   "source": [
    "from bs4 import Comment"
   ]
  },
  {
   "cell_type": "code",
   "execution_count": null,
   "id": "fd704583",
   "metadata": {},
   "outputs": [],
   "source": []
  }
 ],
 "metadata": {
  "kernelspec": {
   "display_name": "Python 3 (ipykernel)",
   "language": "python",
   "name": "python3"
  },
  "language_info": {
   "codemirror_mode": {
    "name": "ipython",
    "version": 3
   },
   "file_extension": ".py",
   "mimetype": "text/x-python",
   "name": "python",
   "nbconvert_exporter": "python",
   "pygments_lexer": "ipython3",
   "version": "3.10.2"
  }
 },
 "nbformat": 4,
 "nbformat_minor": 5
}
