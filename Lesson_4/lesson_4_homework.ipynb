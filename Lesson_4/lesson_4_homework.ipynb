{
 "cells": [
  {
   "cell_type": "markdown",
   "id": "1997cec5",
   "metadata": {},
   "source": [
    "## Урок 4. Система управления базами данных MongoDB в Python"
   ]
  },
  {
   "cell_type": "markdown",
   "id": "96c48a3b",
   "metadata": {},
   "source": [
    "1. Написать приложение, которое собирает основные новости с сайта на выбор news.mail.ru, lenta.ru. Для парсинга использовать XPath. Структура данных должна содержать:\n",
    "    * название источника;\n",
    "    * наименование новости;\n",
    "    * ссылку на новость;\n",
    "    * дата публикации.\n",
    "2. Сложить собранные новости в БД"
   ]
  },
  {
   "cell_type": "markdown",
   "id": "686e4d9d",
   "metadata": {},
   "source": [
    "### Импортирование необходимых библиотек"
   ]
  },
  {
   "cell_type": "code",
   "execution_count": 1,
   "id": "909d68e8",
   "metadata": {},
   "outputs": [],
   "source": [
    "# Импортируем библиотеку MongoClient из модуля pymongo для работы с MongoDB\n",
    "from pymongo import MongoClient\n",
    "import pymongo\n",
    "\n",
    "# Импортируем класс DuplicateKeyError из модуля pymongo.errors для обработки дубликатов ключей\n",
    "from pymongo.errors import DuplicateKeyError \n",
    "\n",
    "# Импорт библиотеки для работы с JSON-форматом\n",
    "import json  \n",
    "\n",
    "# Импорт библиотеки для выполнения HTTP-запросов\n",
    "import requests  \n",
    "\n",
    "# Импорт модуля для работы с HTML и XML\n",
    "from lxml import html \n",
    "\n",
    "# Импорт функции для красивого вывода данных в консоль\n",
    "from pprint import pprint \n",
    "\n",
    "# Импорт модуля datetime для работы с датами\n",
    "from datetime import datetime\n",
    "\n",
    "# Импортируем библиотеку hashlib для генерации уникальных идентификаторов\n",
    "import hashlib"
   ]
  },
  {
   "cell_type": "markdown",
   "id": "b64edbb2",
   "metadata": {},
   "source": [
    "1. Написать приложение, которое собирает основные новости с сайта на выбор news.mail.ru, lenta.ru. Для парсинга использовать XPath. Структура данных должна содержать: \n",
    "    * название источника;\n",
    "    * наименование новости;\n",
    "    * ссылку на новость;\n",
    "    * дата публикации."
   ]
  },
  {
   "cell_type": "code",
   "execution_count": 2,
   "id": "9be9cb71",
   "metadata": {},
   "outputs": [],
   "source": [
    "# Определяем контейнер для json файла\n",
    "JSON_FILE_PATH = './json_folder/news.json'"
   ]
  },
  {
   "cell_type": "markdown",
   "id": "bda52bef",
   "metadata": {},
   "source": [
    "### Инициализация сеанса и настройка get-запроса к веб-странице"
   ]
  },
  {
   "cell_type": "code",
   "execution_count": 3,
   "id": "b5c4ffb3",
   "metadata": {},
   "outputs": [],
   "source": [
    "# Заголовки, которые будут отправлены вместе с запросом\n",
    "headers = {'User-Agent': \n",
    "           'Mozilla/5.0 (Macintosh; Intel Mac OS X 10_15_7) AppleWebKit/537.36 (KHTML, like Gecko) \\\n",
    "           Chrome/112.0.0.0 Safari/537.36'}\n",
    "\n",
    "sessions = requests.Session()\n",
    "\n",
    "# Выполнение HTTP-запроса к указанному URL\n",
    "response = sessions.get(\"https://news.mail.ru/\", headers=headers)\n",
    "\n",
    "# Создание объекта HTML-документа из содержимого ответа response.content\n",
    "dom = html.fromstring(response.content)\n",
    "\n",
    "# Создание пустого списка для хранения данных о новостях\n",
    "news = []\n",
    "\n",
    "# Использование XPath-выражения для выбора элементов новостей из HTML-документа\n",
    "# В данном случае, выбираются все <li> элементы, содержащие класс 'list__item'\n",
    "items = dom.xpath(\"//li[contains(@class, 'list__item')]\")"
   ]
  },
  {
   "cell_type": "markdown",
   "id": "db3e97e7",
   "metadata": {},
   "source": [
    "### Подключение к серверу MongoDB и создание коллекции"
   ]
  },
  {
   "cell_type": "code",
   "execution_count": 4,
   "id": "6d695a00",
   "metadata": {},
   "outputs": [],
   "source": [
    "# Подключение к серверу MongoDB с указанием хоста (127.0.0.1) и порта (27017)\n",
    "client = MongoClient('127.0.0.1', 27017)\n",
    "\n",
    "# Получение доступа к базе данных с именем 'news'\n",
    "db = client['news']\n",
    "\n",
    "# Удаление существующей коллекции 'news_articles', если она существует\n",
    "db.drop_collection('news_articles')\n",
    "\n",
    "# Создание новой коллекции 'news_articles' в базе данных 'news'\n",
    "news_articles = db.create_collection('news_articles')"
   ]
  },
  {
   "cell_type": "markdown",
   "id": "3b3eeb95",
   "metadata": {},
   "source": [
    "### Обработка результата get-запроса"
   ]
  },
  {
   "cell_type": "code",
   "execution_count": 5,
   "id": "f9d69319",
   "metadata": {},
   "outputs": [
    {
     "name": "stdout",
     "output_type": "stream",
     "text": [
      "Данный этап завершен\n"
     ]
    }
   ],
   "source": [
    "# Обработка каждого элемента с новостью\n",
    "for item in items:\n",
    "    news_item = {}\n",
    "    \n",
    "    # Извлечение названия новости\n",
    "    title = item.xpath(\"normalize-space(translate(.//a[contains(@class, 'list__text')]/text(), '\\xa0', ' '))\")\n",
    "    \n",
    "    # Извлечение ссылки на новость\n",
    "    link = item.xpath(\".//a[contains(@class, 'list__text')]/@href\")\n",
    "    \n",
    "    # Отправка запроса по ссылке новости\n",
    "    link_response = requests.get(link[0], headers=headers)\n",
    "    \n",
    "    # Проверка успешного получения данных по ссылке\n",
    "    if link_response.status_code == 200:\n",
    "        link_tree = html.fromstring(link_response.content)\n",
    "        \n",
    "        # Извлечение элементов с датой публикации\n",
    "        publish_date_elements = link_tree\\\n",
    "            .xpath(\"//span[contains(@class, 'note__text breadcrumbs__text js-ago')]/@datetime\")\n",
    "        \n",
    "        # Обработка даты публикации\n",
    "        if publish_date_elements:\n",
    "            publish_date = datetime.strptime(publish_date_elements[0], \"%Y-%m-%dT%H:%M:%S%z\")\\\n",
    "                .strftime(\"%Y-%m-%d %H:%M:%S\")\n",
    "        else:\n",
    "            publish_date = \"Unknown\"\n",
    "        \n",
    "        # Извлечение источников новости\n",
    "        sources = link_tree.xpath(\"//div[contains(@class, 'article js-article js-module')]\")\n",
    "        sources_list = []\n",
    "\n",
    "        for element in sources:\n",
    "            source = element.xpath(\".//span[contains(@class, 'link__text')]/text()\")[0].strip()\n",
    "            sources_list.append(source)\n",
    "        \n",
    "        # Заполнение полей данных новости\n",
    "        news_item['title'] = title\n",
    "        news_item['link'] = link[0]\n",
    "        news_item['publish_date'] = str(publish_date).split('T')[0]\n",
    "        \n",
    "        if sources_list:\n",
    "            news_item['source'] = sources_list[0]\n",
    "        else:\n",
    "            news_item['source'] = \"Unknown\"\n",
    "        \n",
    "        # Создание уникального ID для новости на основе хеширования\n",
    "        news_item['_id'] = hashlib.sha256(f\"{news_item['title']}_{news_item['publish_date']}_{news_item['source']}\"\\\n",
    "                                          .encode()).hexdigest()\n",
    "        \n",
    "        # Создание уникального индекса на основе хеширования\n",
    "        news_item['unique_index'] = \\\n",
    "            hashlib.sha256(f\"{news_item['link']}_{news_item['publish_date']}_{news_item['source']}\"\\\n",
    "                          .encode()).hexdigest()\n",
    "        \n",
    "        # Добавление новости в список\n",
    "        news.append(news_item)\n",
    "        \n",
    "        try:\n",
    "            # Вставка новости в коллекцию и создание индекса\n",
    "            news_articles.insert_one(news_item)\n",
    "            news_articles.create_index([('unique_index', pymongo.ASCENDING)], name='unique_id_index', unique=True)\n",
    "\n",
    "        except pymongo.errors.DuplicateKeyError:\n",
    "            print(f\"Статья с таким id: {news_item.get('_id')} уже существует\")\n",
    "            # Обработка ошибок дубликатов ключей\n",
    "            pass\n",
    "        except Exception as e:\n",
    "            # Обработка других исключений\n",
    "            print(f\"Произошла ошибка: {e}\")\n",
    "    else:\n",
    "        print(f\"Failed to fetch data for link: {link}\")\n",
    "\n",
    "# Сохранение данных в JSON-файл\n",
    "with open(JSON_FILE_PATH, 'w') as file:\n",
    "    json.dump(news, file)\n",
    "\n",
    "# Вывод данных для проверки\n",
    "print('Данный этап завершен')\n"
   ]
  },
  {
   "cell_type": "markdown",
   "id": "71dde81d",
   "metadata": {},
   "source": [
    "### Вывод содержимого коллекции"
   ]
  },
  {
   "cell_type": "code",
   "execution_count": 6,
   "id": "e573e2c5",
   "metadata": {},
   "outputs": [
    {
     "name": "stdout",
     "output_type": "stream",
     "text": [
      "Список статей из базы данных:\n",
      "Заголовок: Умер космонавт Александр Викторенко\n",
      "Ссыдка: https://news.mail.ru/society/57360385/\n",
      "Источник: © РИА Новости\n",
      "Дата публикации: 2023-08-10 12:28:40\n",
      "==============================\n",
      "Заголовок: В США на женщину с неба упала змея, а следом ее атаковал ястреб\n",
      "Ссыдка: https://news.mail.ru/society/57359571/\n",
      "Источник: РБК Life\n",
      "Дата публикации: 2023-08-10 11:57:26\n",
      "==============================\n",
      "Заголовок: Потепление помогает окуням захватывать озера\n",
      "Ссыдка: https://news.mail.ru/society/57363163/\n",
      "Источник: Индикатор\n",
      "Дата публикации: 2023-08-10 15:02:24\n",
      "==============================\n",
      "Заголовок: В Португалии косатки оторвали руль яхты на глазах у моряка\n",
      "Ссыдка: https://news.mail.ru/society/57361439/\n",
      "Источник: Lenta.Ru\n",
      "Дата публикации: 2023-08-10 14:14:32\n",
      "==============================\n",
      "Заголовок: Мошенники начали предлагать клиентам скачать опасное приложение\n",
      "Ссыдка: https://news.mail.ru/incident/57358651/\n",
      "Источник: Известия\n",
      "Дата публикации: 2023-08-10 11:39:59\n",
      "==============================\n",
      "Заголовок: Ученые выяснили, что ядерная зима будет теплой\n",
      "Ссыдка: https://pogoda.mail.ru/news/57357877/\n",
      "Источник: Газета.Ру\n",
      "Дата публикации: 2023-08-10 11:02:49\n",
      "==============================\n",
      "Заголовок: МИД обвинил Microsoft в поддержке Киева и действиях против РФ\n",
      "Ссыдка: https://news.mail.ru/politics/57359722/\n",
      "Источник: РБК\n",
      "Дата публикации: 2023-08-10 12:27:54\n",
      "==============================\n",
      "Заголовок: Ленинградский зоопарк показал новорожденного манула\n",
      "Ссыдка: https://news.mail.ru/society/57349797/\n",
      "Источник: \"Российская газета\"\n",
      "Дата публикации: 2023-08-09 17:45:53\n",
      "==============================\n",
      "Заголовок: Ведение блога могут признать экономической деятельностью\n",
      "Ссыдка: https://finance.mail.ru/2023-08-10/vedenie-bloga-mogut-priznat-ekonomicheskoy-deyatelnostyu-57356555/\n",
      "Источник: Известия\n",
      "Дата публикации: 2023-08-10 09:27:01\n",
      "==============================\n",
      "Заголовок: CNN: Украина передала США доклад об использовании кассетных боеприпасов\n",
      "Ссыдка: https://news.mail.ru/politics/57358413/\n",
      "Источник: Коммерсантъ\n",
      "Дата публикации: 2023-08-10 09:21:31\n",
      "==============================\n",
      "Заголовок: Мятежники Нигера сформировали переходное правительство\n",
      "Ссыдка: https://news.mail.ru/politics/57357648/\n",
      "Источник: РБК\n",
      "Дата публикации: 2023-08-10 08:24:35\n",
      "==============================\n",
      "Заголовок: Как бы не крякнуть: почему мясо утки в России дешевеет\n",
      "Ссыдка: https://finance.mail.ru/2023-08-10/kak-by-ne-kryaknut-pochemu-myaso-utki-v-rossii-desheveet-57357828/\n",
      "Источник: Forbes\n",
      "Дата публикации: 2023-08-10 12:01:19\n",
      "==============================\n",
      "Заголовок: Стоимость нефти Brent поднялась выше $88 впервые с конца января\n",
      "Ссыдка: https://finance.mail.ru/2023-08-10/stoimost-nefti-brent-podnyalas-vyshe-88-vpervye-s-konca-yanvarya-57360923/\n",
      "Источник: Ведомости\n",
      "Дата публикации: 2023-08-10 11:43:51\n",
      "==============================\n",
      "Заголовок: Курс доллара опустился ниже 97 рублей\n",
      "Ссыдка: https://finance.mail.ru/2023-08-10/kurs-dollara-opustilsya-nizhe-97-rubley-57360620/\n",
      "Источник: Forbes\n",
      "Дата публикации: 2023-08-10 11:24:54\n",
      "==============================\n",
      "Заголовок: Как усмирить боль в спине после работы на грядках?\n",
      "Ссыдка: https://pogoda.mail.ru/news/57364122/\n",
      "Источник: Аргументы и факты\n",
      "Дата публикации: 2023-08-10 15:13:07\n",
      "==============================\n",
      "Заголовок: Природные пожары уничтожили курортный город на Гавайях\n",
      "Ссыдка: https://pogoda.mail.ru/news/57360823/\n",
      "Источник: © РИА Новости\n",
      "Дата публикации: 2023-08-10 14:25:50\n",
      "==============================\n",
      "Заголовок: Исследование: ежедневное употребление орехов снижает риск депрессии\n",
      "Ссыдка: https://news.mail.ru/society/57361962/\n",
      "Источник: Новости Mail.ru\n",
      "Дата публикации: 2023-08-10 12:33:47\n",
      "==============================\n",
      "Заголовок: Система ПВО сбила беспилотник в Белгородской области\n",
      "Ссыдка: https://news.mail.ru/incident/57363427/\n",
      "Источник: Ведомости\n",
      "Дата публикации: 2023-08-10 13:59:29\n",
      "==============================\n",
      "Заголовок: Кадыров рассказал о больших потерях ВСУ на Ореховском направлении\n",
      "Ссыдка: https://news.mail.ru/incident/57363005/\n",
      "Источник: © РИА Новости\n",
      "Дата публикации: 2023-08-10 13:47:17\n",
      "==============================\n",
      "Заголовок: Российская ПВО за сутки сбила 38 украинских беспилотников\n",
      "Ссыдка: https://news.mail.ru/incident/57362890/\n",
      "Источник: © РИА Новости\n",
      "Дата публикации: 2023-08-10 13:33:01\n",
      "==============================\n"
     ]
    }
   ],
   "source": [
    "# Выполняем запрос к базе данных, чтобы получить все документы из коллекции news_articles\n",
    "articles = list(news_articles.find({}))\n",
    "\n",
    "# Выводим полученные документы (статьи) в читаемом формате\n",
    "print(\"Список статей из базы данных:\")\n",
    "for article in articles:\n",
    "    print(\"Заголовок:\", article.get(\"title\"))\n",
    "    print(\"Ссыдка:\", article.get(\"link\"))\n",
    "    print(\"Источник:\", article.get(\"source\"))\n",
    "    print(\"Дата публикации:\", article.get(\"publish_date\"))\n",
    "    print(\"=\" * 30)  # Разделитель между статьями"
   ]
  },
  {
   "cell_type": "code",
   "execution_count": 7,
   "id": "45c53dec",
   "metadata": {},
   "outputs": [
    {
     "name": "stdout",
     "output_type": "stream",
     "text": [
      "Заголовок: Ведение блога могут признать экономической деятельностью\n",
      "Ссыдка: https://finance.mail.ru/2023-08-10/vedenie-bloga-mogut-priznat-ekonomicheskoy-deyatelnostyu-57356555/\n",
      "Источник: Известия\n",
      "Дата публикации: 2023-08-10 09:27:01\n",
      "==============================\n",
      "Заголовок: Мошенники начали предлагать клиентам скачать опасное приложение\n",
      "Ссыдка: https://news.mail.ru/incident/57358651/\n",
      "Источник: Известия\n",
      "Дата публикации: 2023-08-10 11:39:59\n",
      "==============================\n"
     ]
    }
   ],
   "source": [
    "# Функция для поиска новостей с фильтром по источнику\n",
    "def getNews(source, collection):\n",
    "    try:\n",
    "        # Формируем запрос (query) для поиска вакансий с минимальной или максимальной зарплатой выше указанной суммы\n",
    "        query = {\n",
    "            'source': source   # Поиск новостей по указанному источнику\n",
    "        }\n",
    "        # Выполняем запрос к коллекции MongoDB с использованием метода find()\n",
    "        # и сортируем результаты по полю 'link' в порядке возрастания (1)\n",
    "        for element in collection.find(query).sort('link', 1):\n",
    "            # Выводим найденные новости с помощью функции pprint() для более читаемого вывода\n",
    "            print(\"Заголовок:\", element.get(\"title\"))\n",
    "            print(\"Ссыдка:\", element.get(\"link\"))\n",
    "            print(\"Источник:\", element.get(\"source\"))\n",
    "            print(\"Дата публикации:\", element.get(\"publish_date\"))\n",
    "            print(\"=\" * 30)  # Разделитель между статьями\n",
    "    except Exception as e:\n",
    "        # Обрабатываем исключения, если что-то пошло не так при выполнении запроса\n",
    "        print(f\"Произошла ошибка при чтении файла: {e}\")\n",
    "\n",
    "# Вызов функции с коллекцией news_articles и указанной суммой зарплаты\n",
    "getNews('Известия', news_articles)"
   ]
  },
  {
   "cell_type": "markdown",
   "id": "a35a32a2",
   "metadata": {},
   "source": [
    "##### Удаляем данные из коллекции, если необходимо"
   ]
  },
  {
   "cell_type": "code",
   "execution_count": 8,
   "id": "ce5da8ff",
   "metadata": {},
   "outputs": [
    {
     "name": "stdout",
     "output_type": "stream",
     "text": [
      "Удалено 20 документов из коллекции news_articles.\n"
     ]
    }
   ],
   "source": [
    "# Удаляем все документы из коллекции news_articles\n",
    "deleted_count = news_articles.delete_many({}).deleted_count\n",
    "\n",
    "# Выводим информацию о количестве удаленных документов\n",
    "print(f\"Удалено {deleted_count} документов из коллекции news_articles.\")"
   ]
  },
  {
   "cell_type": "code",
   "execution_count": 9,
   "id": "3773862f",
   "metadata": {},
   "outputs": [
    {
     "name": "stdout",
     "output_type": "stream",
     "text": [
      "Соединение с базой данных закрыто.\n"
     ]
    }
   ],
   "source": [
    "# Закрываем соединение с базой данных после выполнения операций\n",
    "client.close()\n",
    "\n",
    "print(\"Соединение с базой данных закрыто.\")"
   ]
  }
 ],
 "metadata": {
  "kernelspec": {
   "display_name": "Python 3 (ipykernel)",
   "language": "python",
   "name": "python3"
  },
  "language_info": {
   "codemirror_mode": {
    "name": "ipython",
    "version": 3
   },
   "file_extension": ".py",
   "mimetype": "text/x-python",
   "name": "python",
   "nbconvert_exporter": "python",
   "pygments_lexer": "ipython3",
   "version": "3.10.2"
  }
 },
 "nbformat": 4,
 "nbformat_minor": 5
}
