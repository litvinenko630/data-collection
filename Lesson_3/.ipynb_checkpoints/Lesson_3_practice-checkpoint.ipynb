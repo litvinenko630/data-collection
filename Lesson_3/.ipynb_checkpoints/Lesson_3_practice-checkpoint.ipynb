{
 "cells": [
  {
   "cell_type": "code",
   "execution_count": 16,
   "id": "9622bbe4",
   "metadata": {},
   "outputs": [],
   "source": [
    "# Импортируем библиотеку MongoClient из модуля pymongo для работы с MongoDB\n",
    "from pymongo import MongoClient\n",
    "import pymongo\n",
    "\n",
    "# Импортируем класс DuplicateKeyError из модуля pymongo.errors для обработки дубликатов ключей\n",
    "from pymongo.errors import DuplicateKeyError\n",
    "\n",
    "# Импортируем модуль json для работы с JSON-данными\n",
    "import json\n",
    "\n",
    "# Импортируем библиотеку uuid для генерации уникальных идентификаторов\n",
    "import uuid\n",
    "\n",
    "# Импортируем библиотеку pandas для работы с таблицами и данными\n",
    "import pandas as pd\n",
    "\n",
    "# Импортируем функцию pprint из модуля pprint для красивого вывода данных\n",
    "from pprint import pprint\n"
   ]
  },
  {
   "cell_type": "markdown",
   "id": "d0e93813",
   "metadata": {},
   "source": [
    "#### Урок 3. Парсинг данных. HTML, Beautiful Soap\n",
    "1. Развернуть у себя на компьютере/виртуальной машине/хостинге MongoDB и реализовать функцию, которая будет добавлять только новые вакансии в вашу базу.\n",
    "2. Написать функцию, которая производит поиск и выводит на экран вакансии с заработной платой больше введённой суммы (необходимо анализировать оба поля зарплаты, то есть цифра вводится одна, а запрос проверяет оба поля)"
   ]
  },
  {
   "cell_type": "code",
   "execution_count": 7,
   "id": "309d9fc3",
   "metadata": {},
   "outputs": [],
   "source": [
    "# Определяем контейнер для датасета\n",
    "JSON_FILE_PATH = '../Lesson_2/vacancies.json'"
   ]
  },
  {
   "cell_type": "markdown",
   "id": "15d5722f",
   "metadata": {},
   "source": [
    "**Развернуть у себя на компьютере/виртуальной машине/хостинге MongoDB и реализовать функцию, которая будет добавлять только новые вакансии в вашу базу.**\n"
   ]
  },
  {
   "cell_type": "code",
   "execution_count": 25,
   "id": "8872b689",
   "metadata": {},
   "outputs": [],
   "source": [
    "# Подключение к серверу MongoDB\n",
    "client = MongoClient('127.0.0.1', 27017)"
   ]
  },
  {
   "cell_type": "code",
   "execution_count": 26,
   "id": "59511ce0",
   "metadata": {},
   "outputs": [],
   "source": [
    "# Доступ к базе данных с именем\n",
    "db = client['vacancies']\n",
    "\n",
    "# Доступ к коллекции с именем 'vacancy' в базе данных 'vacancies'\n",
    "vacancy = db.hh_vacancies"
   ]
  },
  {
   "cell_type": "code",
   "execution_count": 29,
   "id": "707d0299",
   "metadata": {},
   "outputs": [],
   "source": [
    "# Функция для добавления вакансий из файла JSON в коллекцию MongoDB\n",
    "def addVacancy(collection, json_file_path):\n",
    "    try:\n",
    "        with open(json_file_path, 'r') as file:\n",
    "            # Загрузка вакансий из файла JSON\n",
    "            vacancies_list = json.load(file)\n",
    "            for el in vacancies_list:\n",
    "                # Генерация уникального ID для вакансии с использованием uuid\n",
    "                el['_id'] = str(uuid.uuid4())\n",
    "                try:\n",
    "                    # Вставка вакансии в коллекцию\n",
    "                    collection.insert_one(el)\n",
    "                    \n",
    "                    # Создание индекса на поле 'vacancy_id' для ускорения поиска и обеспечения уникальности\n",
    "                    collection.create_index([('vacancy_id', pymongo.TEXT)], name='search_index', unique=True)\n",
    "                except pymongo.errors.DuplicateKeyError:\n",
    "                    print(f\"Вакансия с таким id: {el.get('_id')} уже существует\")\n",
    "                    # Обработка ошибок дубликатов ключей\n",
    "                    pass\n",
    "                except Exception as e:\n",
    "                    # Обработка других исключений\n",
    "                    print(f\"Произошла ошибка: {e}\")\n",
    "    except FileNotFoundError:\n",
    "        print(\"Файл не найден.\")\n",
    "    except Exception as e:\n",
    "        print(f\"Произошла ошибка при чтении файла: {e}\")\n",
    "\n",
    "# Вызов функции с коллекцией vacancy и путем к файлу JSON\n",
    "addVacancy(vacancy, JSON_FILE_PATH)"
   ]
  },
  {
   "cell_type": "markdown",
   "id": "fa8f2ab8",
   "metadata": {},
   "source": [
    "**Написать функцию, которая производит поиск и выводит на экран вакансии с заработной платой больше введённой суммы (необходимо анализировать оба поля зарплаты, то есть цифра вводится одна, а запрос проверяет оба поля)**"
   ]
  },
  {
   "cell_type": "code",
   "execution_count": 32,
   "id": "644de5a5",
   "metadata": {},
   "outputs": [
    {
     "name": "stdout",
     "output_type": "stream",
     "text": [
      "{'_id': 'ade3025d-3227-483e-91e4-9fca6e4685da',\n",
      " 'currency': 'RUB',\n",
      " 'employer': 'Росгосстрах',\n",
      " 'employer_page': 'https://hh.ru/employer/2245?hhtmFrom=vacancy_search_list',\n",
      " 'experience': 'Опыт от 1 года до 3 лет',\n",
      " 'job_title': 'Системный аналитик (система финансовой\\xa0отчетности)',\n",
      " 'link': 'https://hh.ru/vacancy/83043654?from=vacancy_search_list&query=%D0%90%D0%BD%D0%B0%D0%BB%D0%B8%D1%82%D0%B8%D0%BA',\n",
      " 'location': 'Москва, Киевская и еще\\xa02\\xa0',\n",
      " 'max_salary': 320000,\n",
      " 'min_salary': nan,\n",
      " 'source_site': 'https://hh.ru',\n",
      " 'vacancy_id': '83043654'}\n",
      "{'_id': '9997766c-9081-46f1-b16a-50ed51621785',\n",
      " 'currency': 'RUB',\n",
      " 'employer': 'ООО\\xa0Арте',\n",
      " 'employer_page': 'https://hh.ru/employer/9187818?hhtmFrom=vacancy_search_list',\n",
      " 'experience': 'Опыт от 3 до 6 лет',\n",
      " 'job_title': 'Системный аналитик',\n",
      " 'link': 'https://hh.ru/vacancy/83227176?from=vacancy_search_list&query=%D0%90%D0%BD%D0%B0%D0%BB%D0%B8%D1%82%D0%B8%D0%BA',\n",
      " 'location': 'Москва',\n",
      " 'max_salary': 450000,\n",
      " 'min_salary': 200000,\n",
      " 'source_site': 'https://hh.ru',\n",
      " 'vacancy_id': '83227176'}\n",
      "{'_id': '69711023-a64e-4bc8-8731-035b2612680a',\n",
      " 'currency': 'RUB',\n",
      " 'employer': 'ИП\\xa0Макаров Александр Олегович',\n",
      " 'employer_page': 'https://hh.ru/employer/9149880?hhtmFrom=vacancy_search_list',\n",
      " 'experience': 'Опыт от 1 года до 3 лет',\n",
      " 'job_title': 'Data Analyst',\n",
      " 'link': 'https://hh.ru/vacancy/83412128?from=vacancy_search_list&query=%D0%90%D0%BD%D0%B0%D0%BB%D0%B8%D1%82%D0%B8%D0%BA',\n",
      " 'location': 'Москва',\n",
      " 'max_salary': 500000,\n",
      " 'min_salary': 250000,\n",
      " 'source_site': 'https://hh.ru',\n",
      " 'vacancy_id': '83412128'}\n",
      "{'_id': '8e387502-e6e7-4379-a40c-ef52bd279902',\n",
      " 'currency': 'RUB',\n",
      " 'employer': 'АО\\xa0Мидлэнд Ритейл Груп',\n",
      " 'employer_page': 'https://hh.ru/employer/3370790?hhtmFrom=vacancy_search_list',\n",
      " 'experience': 'Опыт от 3 до 6 лет',\n",
      " 'job_title': 'Product Manager',\n",
      " 'link': 'https://hh.ru/vacancy/84447563?from=vacancy_search_list&query=%D0%90%D0%BD%D0%B0%D0%BB%D0%B8%D1%82%D0%B8%D0%BA',\n",
      " 'location': 'Москва, Парк культуры',\n",
      " 'max_salary': 350000,\n",
      " 'min_salary': nan,\n",
      " 'source_site': 'https://hh.ru',\n",
      " 'vacancy_id': '84447563'}\n",
      "{'_id': 'b72d114a-938a-4f9f-a2e1-e7f72dd5b836',\n",
      " 'currency': 'RUB',\n",
      " 'employer': 'HR Prime',\n",
      " 'employer_page': 'https://hh.ru/employer/4759060?hhtmFrom=vacancy_search_list',\n",
      " 'experience': 'Опыт от 3 до 6 лет',\n",
      " 'job_title': 'Ведущий системный аналитик',\n",
      " 'link': 'https://hh.ru/vacancy/84486081?from=vacancy_search_list&query=%D0%90%D0%BD%D0%B0%D0%BB%D0%B8%D1%82%D0%B8%D0%BA',\n",
      " 'location': 'Москва',\n",
      " 'max_salary': 440000,\n",
      " 'min_salary': 360000,\n",
      " 'source_site': 'https://hh.ru',\n",
      " 'vacancy_id': '84486081'}\n",
      "{'_id': 'e7731d48-deae-4fc2-ad05-54f360909f1b',\n",
      " 'currency': 'RUB',\n",
      " 'employer': 'ООО\\xa0АЙТИ.СПЕЙС',\n",
      " 'employer_page': 'https://hh.ru/employer/2000762?hhtmFrom=vacancy_search_list',\n",
      " 'experience': 'Опыт от 3 до 6 лет',\n",
      " 'job_title': 'Системный аналитик',\n",
      " 'link': 'https://hh.ru/vacancy/84487940?from=vacancy_search_list&query=%D0%90%D0%BD%D0%B0%D0%BB%D0%B8%D1%82%D0%B8%D0%BA',\n",
      " 'location': 'Москва',\n",
      " 'max_salary': 350000,\n",
      " 'min_salary': 250000,\n",
      " 'source_site': 'https://hh.ru',\n",
      " 'vacancy_id': '84487940'}\n",
      "{'_id': 'a0edd833-bc28-4405-af6a-073b269de92c',\n",
      " 'currency': 'RUB',\n",
      " 'employer': 'ИП\\xa0Цыганова Александра Яковлевна',\n",
      " 'employer_page': 'https://hh.ru/employer/9477999?hhtmFrom=vacancy_search_list',\n",
      " 'experience': 'Опыт от 3 до 6 лет',\n",
      " 'job_title': 'Операционный директор / CEO на маркетплейсах / Селлер на '\n",
      "              'маркетплейсы',\n",
      " 'link': 'https://hh.ru/vacancy/84491383?from=vacancy_search_list&query=%D0%90%D0%BD%D0%B0%D0%BB%D0%B8%D1%82%D0%B8%D0%BA',\n",
      " 'location': 'Москва',\n",
      " 'max_salary': 600000,\n",
      " 'min_salary': 150000,\n",
      " 'source_site': 'https://hh.ru',\n",
      " 'vacancy_id': '84491383'}\n"
     ]
    }
   ],
   "source": [
    "# Функция для поиска вакансий с минимальной или максимальной зарплатой выше указанной суммы\n",
    "def getVacanciesBySalary(amount, collection):\n",
    "    try:\n",
    "        # Формируем запрос (query) для поиска вакансий с минимальной или максимальной зарплатой выше указанной суммы\n",
    "        query = {\n",
    "            '$or': [\n",
    "                {'min_salary': {'$gt': amount}},   # Поиск вакансий с минимальной зарплатой выше указанной суммы\n",
    "                {'max_salary': {'$gt': amount}},   # Поиск вакансий с максимальной зарплатой выше указанной суммы\n",
    "            ]\n",
    "        }\n",
    "        # Выполняем запрос к коллекции MongoDB с использованием метода find()\n",
    "        # и сортируем результаты по полю 'vacancy_id' в порядке возрастания (1)\n",
    "        for element in collection.find(query).sort('vacancy_id', 1):\n",
    "            # Выводим найденные вакансии с помощью функции pprint() для более читаемого вывода\n",
    "            pprint(element)\n",
    "    except Exception as e:\n",
    "        # Обрабатываем исключения, если что-то пошло не так при выполнении запроса\n",
    "        print(f\"Произошла ошибка при чтении файла: {e}\")\n",
    "\n",
    "# Вызов функции с коллекцией vacancy и указанной суммой зарплаты\n",
    "getVacanciesBySalary(300000, vacancy)"
   ]
  },
  {
   "cell_type": "code",
   "execution_count": 23,
   "id": "439f6b37",
   "metadata": {},
   "outputs": [],
   "source": [
    "# Закрытие соединения с сервером MongoDB\n",
    "client.close()"
   ]
  }
 ],
 "metadata": {
  "kernelspec": {
   "display_name": "Python 3 (ipykernel)",
   "language": "python",
   "name": "python3"
  },
  "language_info": {
   "codemirror_mode": {
    "name": "ipython",
    "version": 3
   },
   "file_extension": ".py",
   "mimetype": "text/x-python",
   "name": "python",
   "nbconvert_exporter": "python",
   "pygments_lexer": "ipython3",
   "version": "3.10.2"
  }
 },
 "nbformat": 4,
 "nbformat_minor": 5
}
